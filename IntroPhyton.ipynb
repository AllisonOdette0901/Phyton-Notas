{
  "nbformat": 4,
  "nbformat_minor": 0,
  "metadata": {
    "colab": {
      "provenance": [],
      "authorship_tag": "ABX9TyOigx02Z+nhhFoI/cAHS8Mc",
      "include_colab_link": true
    },
    "kernelspec": {
      "name": "python3",
      "display_name": "Python 3"
    },
    "language_info": {
      "name": "python"
    }
  },
  "cells": [
    {
      "cell_type": "markdown",
      "metadata": {
        "id": "view-in-github",
        "colab_type": "text"
      },
      "source": [
        "<a href=\"https://colab.research.google.com/github/AllisonOdette0901/Phyton-Notas/blob/main/IntroPhyton.ipynb\" target=\"_parent\"><img src=\"https://colab.research.google.com/assets/colab-badge.svg\" alt=\"Open In Colab\"/></a>"
      ]
    },
    {
      "cell_type": "markdown",
      "source": [
        "# Introducción a Phyton\n",
        "\n"
      ],
      "metadata": {
        "id": "3qMx297KoEcq"
      }
    },
    {
      "cell_type": "markdown",
      "source": [
        "### Lista de listas"
      ],
      "metadata": {
        "id": "FIQhfrkLoTOM"
      }
    },
    {
      "cell_type": "code",
      "execution_count": null,
      "metadata": {
        "colab": {
          "base_uri": "https://localhost:8080/"
        },
        "id": "U5Ze05mRoDgt",
        "outputId": "3674f9e8-23ad-469c-b0f2-aedca59eee55"
      },
      "outputs": [
        {
          "output_type": "stream",
          "name": "stdout",
          "text": [
            "[['hallway', 11.25], ['kitchen', 18.0], ['living room', 20.0], ['bedroom', 10.75], ['bathroom', 9.5]]\n",
            "<class 'list'>\n"
          ]
        }
      ],
      "source": [
        "# area variables (in square meters)\n",
        "hall = 11.25\n",
        "kit = 18.0\n",
        "liv = 20.0\n",
        "bed = 10.75\n",
        "bath = 9.50\n",
        "\n",
        "# house information as list of lists\n",
        "house = [[\"hallway\", hall],\n",
        "         [\"kitchen\", kit],\n",
        "         [\"living room\", liv],\n",
        "         [\"bedroom\", bed],\n",
        "         [\"bathroom\", bath]]\n",
        "\n",
        "# Print out house\n",
        "print(house)\n",
        "\n",
        "# Print out the type of house\n",
        "print(type(house))"
      ]
    },
    {
      "cell_type": "markdown",
      "source": [
        "Para acceder a los elementos de la lista será mediante los corchetes y colocando el número del espacio que desees. Recordando que la numeración en Phyton comienza desde 0. Entonces para un arreglo de tamaño **n** la numeración de las entradas comienzan desde el **0** hasta el **n-1**.\n",
        "\n",
        "También puedes tomar fragmentos de las listas siguiendo la siguiente lógica: $[start:end]$ el número que coloques en el lugar *start* estará incluido en la lista, mientras que el número *end* no lo estará.\n",
        "\n",
        "Otra forma de tomar un segmento es $[:m]$ el segemento incluye todos los elementos de la lista hasta el elemento con índice *m*."
      ],
      "metadata": {
        "id": "dfaWB55zpbbn"
      }
    },
    {
      "cell_type": "code",
      "source": [
        "# Create the areas list\n",
        "areas = [\"hallway\", 11.25, \"kitchen\", 18.0, \"living room\", 20.0, \"bedroom\", 10.75, \"bathroom\", 9.50]\n",
        "\n",
        "# Print out second element from areas\n",
        "print(areas[1])\n",
        "\n",
        "# Print out last element from areas\n",
        "print(areas[-1])\n",
        "\n",
        "# Print out the area of the living room\n",
        "print(areas[-5])"
      ],
      "metadata": {
        "id": "6mrYBB_drRe0"
      },
      "execution_count": null,
      "outputs": []
    },
    {
      "cell_type": "code",
      "source": [
        "# Create the areas list\n",
        "areas = [\"hallway\", 11.25, \"kitchen\", 18.0, \"living room\", 20.0, \"bedroom\", 10.75, \"bathroom\", 9.50]\n",
        "\n",
        "# Sum of kitchen and bedroom area: eat_sleep_area\n",
        "eat_sleep_area = areas[3]+areas[-3]\n",
        "\n",
        "# Print the variable eat_sleep_area\n",
        "print(eat_sleep_area)\n",
        "\n",
        "# Use slicing to create downstairs\n",
        "downstairs= areas[0:6]\n",
        "\n",
        "# Use slicing to create upstairs\n",
        "upstairs=areas[6:10]\n",
        "\n",
        "# Print out downstairs and upstairs\n",
        "print(downstairs,upstairs)\n",
        "\n",
        "# Alternative slicing to create downstairs\n",
        "\n",
        "downstairs=areas[:6]\n",
        "\n",
        "# Alternative slicing to create upstairs\n",
        "upstairs=areas[6:]"
      ],
      "metadata": {
        "id": "Bv8XHUENr7DM"
      },
      "execution_count": null,
      "outputs": []
    },
    {
      "cell_type": "markdown",
      "source": [
        "Ahora prueba tú mismo el siguiente código, qué diferencia hay entre x[2][0] y x[2][:2]?\n",
        "\n",
        "\n"
      ],
      "metadata": {
        "id": "TAS5HG83tWlD"
      }
    },
    {
      "cell_type": "code",
      "source": [
        "x = [[\"a\", \"b\", \"c\"],\n",
        "     [\"d\", \"e\", \"f\"],\n",
        "     [\"g\", \"h\", \"i\"]]\n",
        "x[2][0]\n",
        "x[2][:2]"
      ],
      "metadata": {
        "id": "53KEvroRtbkF"
      },
      "execution_count": null,
      "outputs": []
    },
    {
      "cell_type": "markdown",
      "source": [
        "## Manipulación de listas\n",
        "\n",
        "\n",
        "1.  Cambiar elementos de la lista\n",
        "2.  Añadir elementos a la lista\n",
        "3.  Eliminar elementos de una lista\n",
        "\n",
        "Veamos un ejemplo del primer punto.\n",
        "\n",
        "Supongamos que tenemos una lista de artículos con sus precios y quisieramos actualizarla con un elemento más junto con su respectivo precio, esto lo haremos de la siguiente forma:"
      ],
      "metadata": {
        "id": "o_VCXxgxuBQp"
      }
    },
    {
      "cell_type": "code",
      "source": [
        "tienda = ['manzanas', 15.5, 'naranjas', 24.3, 'uvas', 90.5, 'sandía', 50.3]\n"
      ],
      "metadata": {
        "id": "0p94d6ZiuEAJ"
      },
      "execution_count": null,
      "outputs": []
    },
    {
      "cell_type": "code",
      "source": [
        "# Añadimos un nuevo producto\n",
        "tienda + ['fresas',89.4]"
      ],
      "metadata": {
        "id": "wZbIZBVdv-nO"
      },
      "execution_count": null,
      "outputs": []
    },
    {
      "cell_type": "markdown",
      "source": [
        "Ahora para copiar los valores de una lista se hace de la siguiente manera. Si tuviermaos la lista **x** como se muestra a continuación y queremos hacer una copia exacta renombrandola en otra variable **y**. Lo ideal es colocar el signo de \"=\".\n",
        "Sin embargo, al hacer una modificación en **y** también se verá reflejada en **x**.\n",
        "\n",
        "Así que la manera correcta de hacerlo es de la siguiente forma:"
      ],
      "metadata": {
        "id": "0Yw8AgpUwn_R"
      }
    },
    {
      "cell_type": "code",
      "source": [
        "x = ['a','b','c']"
      ],
      "metadata": {
        "id": "W2SzcoWFxYOE"
      },
      "execution_count": null,
      "outputs": []
    },
    {
      "cell_type": "code",
      "source": [
        "# copia de x\n",
        "# forma 1\n",
        "y = list(x)\n",
        "#forma 2\n",
        "y = x[:]"
      ],
      "metadata": {
        "id": "TrA1flVKxceb"
      },
      "execution_count": null,
      "outputs": []
    },
    {
      "cell_type": "markdown",
      "source": [
        "De esta manera alguna alteración a la lista **y** o **x** no afecta una a la otra.\n",
        "\n",
        "Y la manera de eliminar un elemento de la lista es de la siguiente forma:"
      ],
      "metadata": {
        "id": "mCboun6KxrKy"
      }
    },
    {
      "cell_type": "code",
      "source": [
        "x = [\"a\", \"b\", \"c\", \"d\"]\n",
        "del(x[1])"
      ],
      "metadata": {
        "id": "Aoj4j5f2ytEE"
      },
      "execution_count": null,
      "outputs": []
    },
    {
      "cell_type": "markdown",
      "source": [
        "Ejercicio:\n",
        "\n",
        "Tienes planeado comprar la siguiente casa, sin embargo gastaste más de lo planeado y debes eliminar uno de ellos.\n",
        "Puedes utilizar el siguiente comando:\n",
        "\n",
        "El signo ; se utiliza para colocar comandos en la misma línea. Los dos trozos de código siguientes son equivalentes:\n"
      ],
      "metadata": {
        "id": "I9t44JVsy-Of"
      }
    },
    {
      "cell_type": "code",
      "source": [
        "areas = [\"hallway\", 11.25, \"kitchen\", 18.0,\n",
        "        \"chill zone\", 20.0, \"bedroom\", 10.75,\n",
        "         \"bathroom\", 10.50, \"poolhouse\", 24.5,\n",
        "         \"garage\", 15.45]"
      ],
      "metadata": {
        "id": "GyY96oO_zFEp"
      },
      "execution_count": null,
      "outputs": []
    },
    {
      "cell_type": "code",
      "source": [
        "#Eliminando la piscina\n",
        "del(areas[-4:-2])"
      ],
      "metadata": {
        "id": "JNXZf08n0Bf2"
      },
      "execution_count": null,
      "outputs": []
    },
    {
      "cell_type": "markdown",
      "source": [
        "## Funciones\n",
        "\n",
        "Vamos a revisar algunas funciones que pueden ser útiles.\n",
        "\n",
        "\n",
        "\n",
        "*   `max()`: recibe una lista y devuelve el elmento máximo de una lista.\n",
        "*   `round()`: recibe dos entradas, la primera el número que deseas redondear y la segunda la precisión con la que quieres redondear, es decir, la cantidad de dígitos que deseas tener después del punto decimal. Si no se especifica la segunda entrada phyton redondea al entero más cercano.\n",
        "*  `help()`: recibe el nombre de la función con la que necesites ayuda.\n",
        "\n"
      ],
      "metadata": {
        "id": "Vfr0g4Uo0dsR"
      }
    },
    {
      "cell_type": "code",
      "source": [
        "# Create lists first and second\n",
        "first = [11.25, 18.0, 20.0]\n",
        "second = [10.75, 9.50]\n",
        "\n",
        "# Paste together first and second: full\n",
        "full = first+second\n",
        "\n",
        "# Sort full in descending order: full_sorted\n",
        "full_sorted=sorted(full, reverse = True)\n",
        "\n",
        "# Print out full_sorted\n",
        "print(full_sorted)"
      ],
      "metadata": {
        "id": "BXHX3UVdCX2k"
      },
      "execution_count": null,
      "outputs": []
    },
    {
      "cell_type": "markdown",
      "source": [
        "### Métodos\n",
        "\n",
        "Pueden ser vistos como \"funciones\" que pertenecen a los objetos de phyton.\n",
        "\n",
        "Veamos como funcionan, utilizando la lista que se muestra a continuación, se tienen distintos artículos que tienen asociado un peso y todos estan contenidos en una mochila."
      ],
      "metadata": {
        "id": "WWGPG9sOCaqN"
      }
    },
    {
      "cell_type": "code",
      "source": [
        "mochila = ['colores', 1.5 , 'cuadernos', 3.4, 'tableta', 3.5, 'botella', 2, 'libros', 4.6]"
      ],
      "metadata": {
        "id": "TuD2RttVDXau"
      },
      "execution_count": 1,
      "outputs": []
    },
    {
      "cell_type": "markdown",
      "source": [
        "Ahora vamos hacer uso de un método que indica en donde está cierto artículo que busquemos. Por ejemplo queremos ver en que posición está la botella."
      ],
      "metadata": {
        "id": "D95mS3HrD8WP"
      }
    },
    {
      "cell_type": "code",
      "source": [
        "mochila.index('botella')"
      ],
      "metadata": {
        "colab": {
          "base_uri": "https://localhost:8080/"
        },
        "id": "gL8IT-_KEIJd",
        "outputId": "cccf4c02-2a8b-4f16-eb88-1163ca050911"
      },
      "execution_count": 2,
      "outputs": [
        {
          "output_type": "execute_result",
          "data": {
            "text/plain": [
              "6"
            ]
          },
          "metadata": {},
          "execution_count": 2
        }
      ]
    },
    {
      "cell_type": "markdown",
      "source": [
        "Si quisieramos saber cu'antos artículos de peso 3.5 tenemos se usa el método count()."
      ],
      "metadata": {
        "id": "OzmAoCaHEVE9"
      }
    },
    {
      "cell_type": "code",
      "source": [
        "mochila.count(3.5)"
      ],
      "metadata": {
        "colab": {
          "base_uri": "https://localhost:8080/"
        },
        "id": "3zLM3f-_EdBA",
        "outputId": "59765ad5-6327-4d59-ed97-ac40f5afb1bc"
      },
      "execution_count": 3,
      "outputs": [
        {
          "output_type": "execute_result",
          "data": {
            "text/plain": [
              "1"
            ]
          },
          "metadata": {},
          "execution_count": 3
        }
      ]
    },
    {
      "cell_type": "markdown",
      "source": [
        "Así podemos encontrar más métodos para otros tipos de objetos en phyton. Por ejemplo:\n",
        "\n",
        "\n",
        "*   `replace()`: función que reemplaza la letra que desees por otra en todo tu archivo. `palabra.replace('a','i')` donde haya una letra 'a' en la palabra 'palabra' colocara un a'i'.\n",
        "*   `append()`: es una función que concatena al final de la lista el nueve elemento que coloqes dentro de los paréntesis.\n",
        "\n"
      ],
      "metadata": {
        "id": "ZcDrR_lrEseW"
      }
    },
    {
      "cell_type": "markdown",
      "source": [
        "### Paquetes\n",
        "Algunos paquetes importantes son:\n",
        "\n",
        "\n",
        "*   Numpy: ayuda a trabajar más eficiente con los datos.\n",
        "*   Matplotlib: ayuda con la visualización de los datos.\n",
        "*   scikit-learn: para aprendizaje automático.\n",
        "\n"
      ],
      "metadata": {
        "id": "B-TTRBb9JXjx"
      }
    },
    {
      "cell_type": "markdown",
      "source": [
        "## Numpy\n",
        "\n",
        "Esta librería permite realizar cálculos en arreglo completos de manera fácil y rápida. Aunque debemos tener en cuenta que Numpy solo acepta arreglos de un solo tipo de datos. También tienen sus propios métodos por lo tanto debemos tener cuidado en eso. Veamos un ejemplo:"
      ],
      "metadata": {
        "id": "mWwPNDC3Nn4H"
      }
    },
    {
      "cell_type": "code",
      "source": [
        "# importamos la paquetería primero\n",
        "import numpy as np"
      ],
      "metadata": {
        "id": "umgI2XPobgpg"
      },
      "execution_count": 4,
      "outputs": []
    },
    {
      "cell_type": "code",
      "source": [
        "phyton_list = [1, 2, 3]\n",
        "numpy_array = np.array([1, 2, 3])"
      ],
      "metadata": {
        "id": "Gh8cv_g-bp1n"
      },
      "execution_count": 5,
      "outputs": []
    },
    {
      "cell_type": "code",
      "source": [
        "# imprime la primera línea y luego la segunda para que observes la diferencia\n",
        "phyton_list+phyton_list #concatena\n",
        "\n",
        "#segundo ejemplo descomenta la siguiente línea\n",
        "#phyton_list+numpy_array #suma entrada con entrada"
      ],
      "metadata": {
        "colab": {
          "base_uri": "https://localhost:8080/"
        },
        "id": "tTXXN6Fvb3N3",
        "outputId": "ca30b899-4760-4f17-91f6-7ac840daddf5"
      },
      "execution_count": 7,
      "outputs": [
        {
          "output_type": "execute_result",
          "data": {
            "text/plain": [
              "[1, 2, 3, 1, 2, 3]"
            ]
          },
          "metadata": {},
          "execution_count": 7
        }
      ]
    },
    {
      "cell_type": "code",
      "source": [
        "# Import the numpy package as np\n",
        "#import numpy as np\n",
        "\n",
        "# Create list baseball\n",
        "baseball = [180, 215, 210, 210, 188, 176, 209, 200]\n",
        "\n",
        "# Create a numpy array from baseball: np_baseball\n",
        "np_baseball = np.array(baseball)\n",
        "\n",
        "# Print out type of np_baseball\n",
        "print(type(np_baseball))"
      ],
      "metadata": {
        "id": "vcZk2RT2c8kl"
      },
      "execution_count": null,
      "outputs": []
    },
    {
      "cell_type": "markdown",
      "source": [
        "### Type and Numpy arrays\n",
        "Vamos a ver ahora los arreglos n-dimensionales."
      ],
      "metadata": {
        "id": "kJs63Cs_f_7g"
      }
    },
    {
      "cell_type": "code",
      "source": [
        "# creamos dos listas\n",
        "np_weight = np.array([1.73, 1.68, 1.71, 1.89, 1.79])\n",
        "np_height = np.array([65.4, 59.2, 63.6, 88.4, 68.7])"
      ],
      "metadata": {
        "id": "wLklwIw1gKUU"
      },
      "execution_count": 8,
      "outputs": []
    },
    {
      "cell_type": "code",
      "source": [
        "# ahora veamos que la diemnsión de ambos arreglos es unidimensional.\n",
        "type(np_weight)"
      ],
      "metadata": {
        "colab": {
          "base_uri": "https://localhost:8080/"
        },
        "id": "544VQoGtgpVA",
        "outputId": "9e6ff792-7042-47d0-a0c7-a819fdd144bb"
      },
      "execution_count": 9,
      "outputs": [
        {
          "output_type": "execute_result",
          "data": {
            "text/plain": [
              "numpy.ndarray"
            ]
          },
          "metadata": {},
          "execution_count": 9
        }
      ]
    },
    {
      "cell_type": "code",
      "source": [
        "# Ahora convirtamoslo en un 2D Numpy\n",
        "np_2d =  np.array([[1.73, 1.68, 1.71, 1.89, 1.79], [65.4, 59.2, 63.6, 88.4, 68.7] ])"
      ],
      "metadata": {
        "id": "acHyJLpng7sd"
      },
      "execution_count": 10,
      "outputs": []
    },
    {
      "cell_type": "code",
      "source": [
        "# el tamaño del arreglo puede verse usando el siguiente método\n",
        "np_2d.shape  # (2, 5) 2 filas y 5 columnas"
      ],
      "metadata": {
        "colab": {
          "base_uri": "https://localhost:8080/"
        },
        "id": "F74ML1A5hPFj",
        "outputId": "7a84346c-59d0-4f9b-d4fd-f9320bc84301"
      },
      "execution_count": 11,
      "outputs": [
        {
          "output_type": "execute_result",
          "data": {
            "text/plain": [
              "(2, 5)"
            ]
          },
          "metadata": {},
          "execution_count": 11
        }
      ]
    },
    {
      "cell_type": "markdown",
      "source": [
        "Ahora para acceder a los elementos de los n-arreglos se hará de la siguiente forma: np_nd[row][column]"
      ],
      "metadata": {
        "id": "2BQ438shh2Cs"
      }
    },
    {
      "cell_type": "code",
      "source": [
        "np_2d[0][2] # 0 indica el primer renglón, 2 es la columna 3."
      ],
      "metadata": {
        "colab": {
          "base_uri": "https://localhost:8080/"
        },
        "id": "DJLdVs90iKpg",
        "outputId": "b7c810d0-9842-41cb-e13b-d3831853a403"
      },
      "execution_count": 12,
      "outputs": [
        {
          "output_type": "execute_result",
          "data": {
            "text/plain": [
              "1.71"
            ]
          },
          "metadata": {},
          "execution_count": 12
        }
      ]
    },
    {
      "cell_type": "code",
      "source": [
        "#forma alternativa\n",
        "np_2d[0, 2]"
      ],
      "metadata": {
        "colab": {
          "base_uri": "https://localhost:8080/"
        },
        "id": "kgwjdOmRieCt",
        "outputId": "bc282404-d172-4e4d-96a0-672f4efc2628"
      },
      "execution_count": 13,
      "outputs": [
        {
          "output_type": "execute_result",
          "data": {
            "text/plain": [
              "1.71"
            ]
          },
          "metadata": {},
          "execution_count": 13
        }
      ]
    },
    {
      "cell_type": "code",
      "source": [
        "# si queremos los elementos de las columnas 1 y 2\n",
        "np_2d[:,1:3]"
      ],
      "metadata": {
        "colab": {
          "base_uri": "https://localhost:8080/"
        },
        "id": "FS6MJf8finSP",
        "outputId": "c159e2a9-946d-469c-a92e-da796c493943"
      },
      "execution_count": 14,
      "outputs": [
        {
          "output_type": "execute_result",
          "data": {
            "text/plain": [
              "array([[ 1.68,  1.71],\n",
              "       [59.2 , 63.6 ]])"
            ]
          },
          "metadata": {},
          "execution_count": 14
        }
      ]
    },
    {
      "cell_type": "code",
      "source": [
        "# si queremos los valores de pesos accedemos de la sig. forma\n",
        "np_2d[1,:]"
      ],
      "metadata": {
        "colab": {
          "base_uri": "https://localhost:8080/"
        },
        "id": "h7rF6AiBi9GY",
        "outputId": "0b6f1aaf-f7a6-499b-f795-3558551b50ad"
      },
      "execution_count": 15,
      "outputs": [
        {
          "output_type": "execute_result",
          "data": {
            "text/plain": [
              "array([65.4, 59.2, 63.6, 88.4, 68.7])"
            ]
          },
          "metadata": {},
          "execution_count": 15
        }
      ]
    },
    {
      "cell_type": "markdown",
      "source": [
        "Numpy también puede realizar las siguientes operacones las cuales pueden ser bastante útiles para datos muy grandes.\n",
        "\n",
        "* `np.mean()`: ayuda a obtener el promedio de los datos que ingresen.\n",
        "* `np.median()`: obtiene la mediana del arreglo.\n",
        "* `np.corrcoef(arr1, arr2)`: correlación entre dos arreglos.\n",
        "* `np.std()`: desviación estándar de un arreglo.\n",
        "* `np.sum(), np.sort()`...\n",
        "\n",
        "**Nota**: al referirnos a un arreglo estamos asumiendo que son objetos np.array()"
      ],
      "metadata": {
        "id": "_8OKGmF9l47-"
      }
    },
    {
      "cell_type": "markdown",
      "source": [
        "# Phyton intermedio\n",
        "\n",
        "Comenzaremos a utilizar Matplotlib para la visualización de datos."
      ],
      "metadata": {
        "id": "Fw5Z4YmXqJrc"
      }
    }
  ]
}